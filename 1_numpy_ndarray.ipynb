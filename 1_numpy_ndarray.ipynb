{
  "cells": [
    {
      "cell_type": "markdown",
      "metadata": {
        "id": "view-in-github",
        "colab_type": "text"
      },
      "source": [
        "<a href=\"https://colab.research.google.com/github/cymyung/data-science/blob/teamlab-numpy-pandas/1_numpy_ndarray.ipynb\" target=\"_parent\"><img src=\"https://colab.research.google.com/assets/colab-badge.svg\" alt=\"Open In Colab\"/></a>"
      ]
    },
    {
      "cell_type": "markdown",
      "metadata": {
        "id": "u0_0SvtU9iqa"
      },
      "source": [
        "#### numpy 모듈의 호출"
      ]
    },
    {
      "cell_type": "code",
      "execution_count": null,
      "metadata": {
        "ExecuteTime": {
          "end_time": "2017-09-26T05:57:43.297459Z",
          "start_time": "2017-09-26T05:57:43.066178Z"
        },
        "collapsed": true,
        "id": "6agtrQRw9iqc"
      },
      "outputs": [],
      "source": [
        "import numpy as np"
      ]
    },
    {
      "cell_type": "markdown",
      "metadata": {
        "id": "0YL2qyUk9iqe"
      },
      "source": [
        "#### array의 생성"
      ]
    },
    {
      "cell_type": "code",
      "execution_count": null,
      "metadata": {
        "ExecuteTime": {
          "end_time": "2017-09-26T05:59:19.662115Z",
          "start_time": "2017-09-26T05:59:19.657296Z"
        },
        "id": "NBYkHZTC9iqe",
        "outputId": "e49a4596-3282-4b65-9cc5-0ebdd0b04f69"
      },
      "outputs": [
        {
          "data": {
            "text/plain": [
              "array([ 1.,  4.,  5.,  8.])"
            ]
          },
          "execution_count": 4,
          "metadata": {},
          "output_type": "execute_result"
        }
      ],
      "source": [
        "test_array = np.array([\"1\", \"4\", 5, 8], float)\n",
        "test_array"
      ]
    },
    {
      "cell_type": "code",
      "execution_count": null,
      "metadata": {
        "ExecuteTime": {
          "end_time": "2017-09-26T06:20:20.461471Z",
          "start_time": "2017-09-26T06:20:20.457795Z"
        },
        "id": "ocAjEyRb9iqf",
        "outputId": "31824bf3-3915-40ed-f2d2-f56f6b934772"
      },
      "outputs": [
        {
          "data": {
            "text/plain": [
              "numpy.float64"
            ]
          },
          "execution_count": 5,
          "metadata": {},
          "output_type": "execute_result"
        }
      ],
      "source": [
        "type(test_array[3])"
      ]
    },
    {
      "cell_type": "code",
      "execution_count": null,
      "metadata": {
        "id": "WgdK_A6z9iqf",
        "outputId": "8564ef4e-7520-431c-e6b1-3924e9a4a07c"
      },
      "outputs": [
        {
          "data": {
            "text/plain": [
              "array([ 1.,  4.,  5.,  8.])"
            ]
          },
          "execution_count": 5,
          "metadata": {},
          "output_type": "execute_result"
        }
      ],
      "source": [
        "test_array = np.array([1, 4, 5, \"8\"], float) # String Type의 데이터를 입력해도\n",
        "test_array"
      ]
    },
    {
      "cell_type": "code",
      "execution_count": null,
      "metadata": {
        "id": "IHADTUL49iqf",
        "outputId": "b0667fe8-fdec-4cad-fb45-9a7b57867eb9"
      },
      "outputs": [
        {
          "data": {
            "text/plain": [
              "numpy.float64"
            ]
          },
          "execution_count": 6,
          "metadata": {},
          "output_type": "execute_result"
        }
      ],
      "source": [
        "type(test_array[3])   # Float Type으로 자동 형변환을 실시"
      ]
    },
    {
      "cell_type": "code",
      "execution_count": null,
      "metadata": {
        "id": "tXj3Je3A9iqg",
        "outputId": "e3e6fd59-a8d4-4471-daec-c9acd9b2a92f"
      },
      "outputs": [
        {
          "data": {
            "text/plain": [
              "dtype('float64')"
            ]
          },
          "execution_count": 7,
          "metadata": {},
          "output_type": "execute_result"
        }
      ],
      "source": [
        "test_array.dtype   # Array(배열) 전체의 데이터 Type을 반환함"
      ]
    },
    {
      "cell_type": "code",
      "execution_count": null,
      "metadata": {
        "ExecuteTime": {
          "end_time": "2017-09-26T06:22:43.423865Z",
          "start_time": "2017-09-26T06:22:43.419749Z"
        },
        "id": "LGRnNdGt9iqg",
        "outputId": "c5fb1bf0-9a5e-4bdd-ee85-98028dae13a9"
      },
      "outputs": [
        {
          "data": {
            "text/plain": [
              "array([ 1.,  4.,  5.,  8.])"
            ]
          },
          "execution_count": 6,
          "metadata": {},
          "output_type": "execute_result"
        }
      ],
      "source": [
        "test_array"
      ]
    },
    {
      "cell_type": "code",
      "execution_count": null,
      "metadata": {
        "ExecuteTime": {
          "end_time": "2017-09-26T06:22:46.519865Z",
          "start_time": "2017-09-26T06:22:46.516127Z"
        },
        "id": "OIuoOUQE9iqg",
        "outputId": "902c7a9e-e253-44ff-a696-44c094f43559"
      },
      "outputs": [
        {
          "data": {
            "text/plain": [
              "(4,)"
            ]
          },
          "execution_count": 7,
          "metadata": {},
          "output_type": "execute_result"
        }
      ],
      "source": [
        "test_array.shape   # Array(배열) 의 shape을 반환함"
      ]
    },
    {
      "cell_type": "markdown",
      "metadata": {
        "id": "VENJYnCp9iqg"
      },
      "source": [
        "#### arrary shape"
      ]
    },
    {
      "cell_type": "code",
      "execution_count": null,
      "metadata": {
        "id": "yeKIyPFr9iqg",
        "outputId": "c96db5fd-173f-4d45-f550-8fe709e3ba09"
      },
      "outputs": [
        {
          "data": {
            "text/plain": [
              "(4,)"
            ]
          },
          "execution_count": 9,
          "metadata": {},
          "output_type": "execute_result"
        }
      ],
      "source": [
        "vector  = [1,2,3,4]\n",
        "np.array(vector, int).shape"
      ]
    },
    {
      "cell_type": "code",
      "execution_count": null,
      "metadata": {
        "id": "Vt-H3P8q9iqg",
        "outputId": "434dcd8d-c264-4692-c94f-65a11bdc3552"
      },
      "outputs": [
        {
          "data": {
            "text/plain": [
              "(3, 4)"
            ]
          },
          "execution_count": 10,
          "metadata": {},
          "output_type": "execute_result"
        }
      ],
      "source": [
        "matrix  = [[1,2,5,8],[1,2,5,8],[1,2,5,8]]\n",
        "np.array(matrix, int).shape"
      ]
    },
    {
      "cell_type": "code",
      "execution_count": null,
      "metadata": {
        "id": "lZHdi1Yh9iqh",
        "outputId": "243159f5-0866-451b-84c1-9b2ac08f89c6"
      },
      "outputs": [
        {
          "data": {
            "text/plain": [
              "(4, 3, 4)"
            ]
          },
          "execution_count": 11,
          "metadata": {},
          "output_type": "execute_result"
        }
      ],
      "source": [
        "tensor  = [[[1,2,5,8],[1,2,5,8],[1,2,5,8]],\n",
        "           [[1,2,5,8],[1,2,5,8],[1,2,5,8]],\n",
        "           [[1,2,5,8],[1,2,5,8],[1,2,5,8]],\n",
        "           [[1,2,5,8],[1,2,5,8],[1,2,5,8]]]\n",
        "np.array(tensor, int).shape"
      ]
    },
    {
      "cell_type": "code",
      "execution_count": null,
      "metadata": {
        "id": "CI2WpjPe9iqh",
        "outputId": "f7290910-32ba-437e-b66a-7c33b8ebbff4"
      },
      "outputs": [
        {
          "data": {
            "text/plain": [
              "3"
            ]
          },
          "execution_count": 12,
          "metadata": {},
          "output_type": "execute_result"
        }
      ],
      "source": [
        "np.array(tensor, int).ndim"
      ]
    },
    {
      "cell_type": "code",
      "execution_count": null,
      "metadata": {
        "id": "kFppXP3p9iqh",
        "outputId": "28dfb5e2-a5d6-4e1c-bb5d-0f70a7b929aa"
      },
      "outputs": [
        {
          "data": {
            "text/plain": [
              "48"
            ]
          },
          "execution_count": 13,
          "metadata": {},
          "output_type": "execute_result"
        }
      ],
      "source": [
        "np.array(tensor, int).size"
      ]
    },
    {
      "cell_type": "markdown",
      "metadata": {
        "id": "rRGATSZV9iqh"
      },
      "source": [
        "#### numpy dtype"
      ]
    },
    {
      "cell_type": "code",
      "execution_count": null,
      "metadata": {
        "ExecuteTime": {
          "end_time": "2017-09-26T06:27:31.766802Z",
          "start_time": "2017-09-26T06:27:31.762232Z"
        },
        "id": "5ph0_fHi9iqh",
        "outputId": "6736030d-d1f3-407d-d877-d4362180ca06"
      },
      "outputs": [
        {
          "data": {
            "text/plain": [
              "dtype('int64')"
            ]
          },
          "execution_count": 9,
          "metadata": {},
          "output_type": "execute_result"
        }
      ],
      "source": [
        "a = np.array([[1, 2, 3], [4.5, 5, 6]], dtype=int)"
      ]
    },
    {
      "cell_type": "code",
      "execution_count": null,
      "metadata": {
        "id": "U6d751J69iqh",
        "outputId": "2e1fb2ef-0fa5-497a-d5f3-856c3dd01974"
      },
      "outputs": [
        {
          "data": {
            "text/plain": [
              "array([[ 1. ,  2. ,  3. ],\n",
              "       [ 4.5,  5. ,  6. ]], dtype=float32)"
            ]
          },
          "execution_count": 20,
          "metadata": {},
          "output_type": "execute_result"
        }
      ],
      "source": [
        "np.array([[1, 2, 3], [4.5, \"5\", \"6\"]], dtype=np.float32)"
      ]
    },
    {
      "cell_type": "code",
      "execution_count": null,
      "metadata": {
        "ExecuteTime": {
          "end_time": "2017-09-26T06:28:05.235461Z",
          "start_time": "2017-09-26T06:28:05.231668Z"
        },
        "id": "6caIuS7w9iqh",
        "outputId": "21c676fe-9c4f-4c4c-e697-45b07315df1d"
      },
      "outputs": [
        {
          "data": {
            "text/plain": [
              "24"
            ]
          },
          "execution_count": 10,
          "metadata": {},
          "output_type": "execute_result"
        }
      ],
      "source": [
        "np.array([[1, 2, 3], [4.5, \"5\", \"6\"]],\n",
        "         dtype=np.float32).nbytes"
      ]
    },
    {
      "cell_type": "code",
      "execution_count": null,
      "metadata": {
        "ExecuteTime": {
          "end_time": "2017-09-26T06:28:06.101223Z",
          "start_time": "2017-09-26T06:28:06.096858Z"
        },
        "id": "DeV-etc99iqh",
        "outputId": "5ba45ff5-b4d3-4365-eae2-8c96a9fedb76"
      },
      "outputs": [
        {
          "data": {
            "text/plain": [
              "6"
            ]
          },
          "execution_count": 11,
          "metadata": {},
          "output_type": "execute_result"
        }
      ],
      "source": [
        "np.array([[1, 2, 3], [4.5, \"5\", \"6\"]],\n",
        "         dtype=np.int8).nbytes"
      ]
    },
    {
      "cell_type": "code",
      "execution_count": null,
      "metadata": {
        "ExecuteTime": {
          "end_time": "2017-09-26T06:28:08.085080Z",
          "start_time": "2017-09-26T06:28:08.080775Z"
        },
        "id": "JBB2Dpzl9iqi",
        "outputId": "ecd89f62-7451-4239-c3cc-43446c07d0a1"
      },
      "outputs": [
        {
          "data": {
            "text/plain": [
              "48"
            ]
          },
          "execution_count": 12,
          "metadata": {},
          "output_type": "execute_result"
        }
      ],
      "source": [
        "np.array([[1, 2, 3], [4.5, \"5\", \"6\"]],\n",
        "         dtype=np.float64).nbytes"
      ]
    }
  ],
  "metadata": {
    "anaconda-cloud": {},
    "kernelspec": {
      "display_name": "Python 3",
      "language": "python",
      "name": "python3"
    },
    "language_info": {
      "codemirror_mode": {
        "name": "ipython",
        "version": 3
      },
      "file_extension": ".py",
      "mimetype": "text/x-python",
      "name": "python",
      "nbconvert_exporter": "python",
      "pygments_lexer": "ipython3",
      "version": "3.6.2"
    },
    "nav_menu": {},
    "toc": {
      "navigate_menu": true,
      "number_sections": true,
      "sideBar": true,
      "threshold": 6,
      "toc_cell": false,
      "toc_section_display": "block",
      "toc_window_display": false
    },
    "colab": {
      "provenance": [],
      "include_colab_link": true
    }
  },
  "nbformat": 4,
  "nbformat_minor": 0
}